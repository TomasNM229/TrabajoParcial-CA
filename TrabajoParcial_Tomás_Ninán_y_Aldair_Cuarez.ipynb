{
  "nbformat": 4,
  "nbformat_minor": 0,
  "metadata": {
    "colab": {
      "name": "TrabajoParcial - Tomás Ninán y Aldair Cuarez.ipynb",
      "provenance": [],
      "collapsed_sections": []
    },
    "kernelspec": {
      "name": "python3",
      "display_name": "Python 3"
    },
    "language_info": {
      "name": "python"
    }
  },
  "cells": [
    {
      "cell_type": "code",
      "metadata": {
        "id": "ahwU372lQqmv",
        "colab": {
          "base_uri": "https://localhost:8080/"
        },
        "outputId": "2eb683af-0b94-462c-98ee-f9f8f4e4a695"
      },
      "source": [
        "!git clone https://github.com/lmcanavals/algorithmic_complexity.git \n",
        "!pip install geopy"
      ],
      "execution_count": null,
      "outputs": [
        {
          "output_type": "stream",
          "text": [
            "fatal: destination path 'algorithmic_complexity' already exists and is not an empty directory.\n",
            "Requirement already satisfied: geopy in /usr/local/lib/python3.7/dist-packages (1.17.0)\n",
            "Requirement already satisfied: geographiclib<2,>=1.49 in /usr/local/lib/python3.7/dist-packages (from geopy) (1.50)\n"
          ],
          "name": "stdout"
        }
      ]
    },
    {
      "cell_type": "code",
      "metadata": {
        "id": "V88uq6pIyQ5J"
      },
      "source": [
        "from algorithmic_complexity.aclib import graphstuff as gs\n",
        "from queue import Queue\n",
        "from collections import deque\n",
        "from itertools import permutations\n",
        "from math import hypot"
      ],
      "execution_count": null,
      "outputs": []
    },
    {
      "cell_type": "code",
      "metadata": {
        "id": "e-ED0cHLRsPA"
      },
      "source": [
        "import pandas as pd\n",
        "import numpy as np\n",
        "import networkx as nx\n",
        "import math\n",
        "import heapq as hq\n",
        "import json "
      ],
      "execution_count": null,
      "outputs": []
    },
    {
      "cell_type": "code",
      "metadata": {
        "id": "FOpsYlA7rQL_"
      },
      "source": [
        "url = \"https://raw.githubusercontent.com/lmcanavals/algorithmic_complexity/main/data/poblaciones.csv\"\n",
        "poblacionesDF=pd.read_csv(url)"
      ],
      "execution_count": null,
      "outputs": []
    },
    {
      "cell_type": "code",
      "metadata": {
        "id": "fcsrFwmbhsKW",
        "colab": {
          "base_uri": "https://localhost:8080/",
          "height": 212
        },
        "outputId": "6c164618-72fa-4088-ff4f-e4145893f29b"
      },
      "source": [
        "print(len(poblacionesDF))\n",
        "poblacionesDF.head()"
      ],
      "execution_count": null,
      "outputs": [
        {
          "output_type": "stream",
          "text": [
            "3757\n"
          ],
          "name": "stdout"
        },
        {
          "output_type": "execute_result",
          "data": {
            "text/html": [
              "<div>\n",
              "<style scoped>\n",
              "    .dataframe tbody tr th:only-of-type {\n",
              "        vertical-align: middle;\n",
              "    }\n",
              "\n",
              "    .dataframe tbody tr th {\n",
              "        vertical-align: top;\n",
              "    }\n",
              "\n",
              "    .dataframe thead th {\n",
              "        text-align: right;\n",
              "    }\n",
              "</style>\n",
              "<table border=\"1\" class=\"dataframe\">\n",
              "  <thead>\n",
              "    <tr style=\"text-align: right;\">\n",
              "      <th></th>\n",
              "      <th>DEPARTAMENTO</th>\n",
              "      <th>PROVINCIA</th>\n",
              "      <th>DISTRITO</th>\n",
              "      <th>CENTRO POBLADO</th>\n",
              "      <th>LATITUD</th>\n",
              "      <th>LONGITUD</th>\n",
              "      <th>NMI1</th>\n",
              "      <th>NMI2</th>\n",
              "    </tr>\n",
              "  </thead>\n",
              "  <tbody>\n",
              "    <tr>\n",
              "      <th>0</th>\n",
              "      <td>AMAZONAS</td>\n",
              "      <td>BAGUA</td>\n",
              "      <td>ARAMANGO</td>\n",
              "      <td>EL MUYO (C.P.L.)</td>\n",
              "      <td>-5.422545</td>\n",
              "      <td>-78.45299</td>\n",
              "      <td>311</td>\n",
              "      <td>1206</td>\n",
              "    </tr>\n",
              "    <tr>\n",
              "      <th>1</th>\n",
              "      <td>AMAZONAS</td>\n",
              "      <td>BAGUA</td>\n",
              "      <td>ARAMANGO</td>\n",
              "      <td>RESERVA UJUCANO</td>\n",
              "      <td>-5.427565</td>\n",
              "      <td>-78.444372</td>\n",
              "      <td>44</td>\n",
              "      <td>129</td>\n",
              "    </tr>\n",
              "    <tr>\n",
              "      <th>2</th>\n",
              "      <td>AMAZONAS</td>\n",
              "      <td>BAGUA</td>\n",
              "      <td>ARAMANGO</td>\n",
              "      <td>TUTUMBEROS</td>\n",
              "      <td>-5.327317</td>\n",
              "      <td>-78.44472</td>\n",
              "      <td>49</td>\n",
              "      <td>179</td>\n",
              "    </tr>\n",
              "    <tr>\n",
              "      <th>3</th>\n",
              "      <td>AMAZONAS</td>\n",
              "      <td>BAGUA</td>\n",
              "      <td>BAGUA</td>\n",
              "      <td>ALENYA BAJO</td>\n",
              "      <td>-5.682439</td>\n",
              "      <td>-78.495229</td>\n",
              "      <td>3</td>\n",
              "      <td>8</td>\n",
              "    </tr>\n",
              "    <tr>\n",
              "      <th>4</th>\n",
              "      <td>AMAZONAS</td>\n",
              "      <td>BONGARA</td>\n",
              "      <td>CUISPES</td>\n",
              "      <td>MITOPAMPA</td>\n",
              "      <td>-5.93856</td>\n",
              "      <td>-77.965302</td>\n",
              "      <td>1</td>\n",
              "      <td>4</td>\n",
              "    </tr>\n",
              "  </tbody>\n",
              "</table>\n",
              "</div>"
            ],
            "text/plain": [
              "  DEPARTAMENTO PROVINCIA  DISTRITO  ...    LONGITUD NMI1  NMI2\n",
              "0     AMAZONAS     BAGUA  ARAMANGO  ...   -78.45299  311  1206\n",
              "1     AMAZONAS     BAGUA  ARAMANGO  ...  -78.444372   44   129\n",
              "2     AMAZONAS     BAGUA  ARAMANGO  ...   -78.44472   49   179\n",
              "3     AMAZONAS     BAGUA     BAGUA  ...  -78.495229    3     8\n",
              "4     AMAZONAS   BONGARA   CUISPES  ...  -77.965302    1     4\n",
              "\n",
              "[5 rows x 8 columns]"
            ]
          },
          "metadata": {
            "tags": []
          },
          "execution_count": 34
        }
      ]
    },
    {
      "cell_type": "code",
      "metadata": {
        "id": "_OkPSZiSGgPx",
        "colab": {
          "base_uri": "https://localhost:8080/"
        },
        "outputId": "688fe2bd-e9cf-4d9a-c6e6-a61de86f40fb"
      },
      "source": [
        "nomprovincias = poblacionesDF['PROVINCIA'].unique()\n",
        "print(len(nomprovincias))\n",
        "nomprovincias"
      ],
      "execution_count": null,
      "outputs": [
        {
          "output_type": "stream",
          "text": [
            "157\n"
          ],
          "name": "stdout"
        },
        {
          "output_type": "execute_result",
          "data": {
            "text/plain": [
              "array(['BAGUA', 'BONGARA', 'CHACHAPOYAS', 'UTCUBAMBA', 'ANTONIO RAYMONDI',\n",
              "       'BOLOGNESI', 'CARHUAZ', 'CASMA', 'HUARAZ', 'HUARI', 'HUAYLAS',\n",
              "       'OCROS', 'POMABAMBA', 'RECUAY', 'SANTA', 'SIHUAS', 'YUNGAY',\n",
              "       'ABANCAY', 'ANDAHUAYLAS', 'ANTABAMBA', 'AYMARAES', 'CHINCHEROS',\n",
              "       'GRAU', 'AREQUIPA', 'CAMANA', 'CARAVELI', 'CASTILLA', 'CAYLLOMA',\n",
              "       'CONDESUYOS', 'CANGALLO', 'HUAMANGA', 'HUANCA SANCOS', 'HUANTA',\n",
              "       'LUCANAS', 'PARINACOCHAS', 'VICTOR FAJARDO', 'CAJABAMBA',\n",
              "       'CAJAMARCA', 'CELENDIN', 'CHOTA', 'CONTUMAZA', 'CUTERVO', 'JAEN',\n",
              "       'SAN IGNACIO', 'SAN MARCOS', 'SAN MIGUEL', 'SAN MIMGUEL',\n",
              "       'SANTA CRUZ', 'ACOMAYO', 'CALCA', 'CANAS', 'CANCHIS',\n",
              "       'CHUMBIVILCAS', 'LA CONVENCION', 'PARURO', 'QUISPICANCHI',\n",
              "       'PROVINCIA', 'CASTROVIRREYNA', 'CHURCAMPA', 'HUANCAVELICA',\n",
              "       'HUAYTARA', 'TAYACAJA', 'AMBO', 'DOS DE MAYO', 'DOSDEMAYO',\n",
              "       'HUAMALIES', 'HUANUCO SANTA', 'HUANUCO', 'LAURICOCHA',\n",
              "       'LEONCIO PRADO', 'MARAÑON', 'PUERTO INCA', 'CHINCHA', 'ICA',\n",
              "       'NASCA', 'PALPA', 'PISCO', 'CHANCHAMAYO', 'CHUPACA', 'CONCEPCION',\n",
              "       'HUANCAYO', 'JAUJA', 'JUNIN', 'SATIPO', 'TARMA', 'ASCOPE',\n",
              "       'BOLIVAR', 'CHEPEN', 'GRAN CHIMU', 'JULCAN', 'OTUZCO', 'PACASMAYO',\n",
              "       'PATAZ', 'SANCHEZ CARRION', 'SANTIAGO DE CHUCO', 'TRUJILLO',\n",
              "       'VIRU', 'CHICLAYO', 'FERREÑAFE', 'LAMBAYEQUE', 'BARRANCA',\n",
              "       'CAJATAMBO', 'CAÑETE', 'HUARAL', 'HUAROCHIRI', 'HUAURA', 'LIMA',\n",
              "       'OYON', 'YAUYOS', 'ALTO AMAZONAS', 'LORETO',\n",
              "       'MARISCAL RAMON CASTILLA', 'MAYNAS', 'PUTUMAYO   10', 'REQUENA',\n",
              "       'UCAYALI', 'MANU', 'TAMBOPATA', 'GENERAL SANCHEZ CERRO',\n",
              "       'MARISCAL NIETO', 'DANIEL ALCIDES CARRION', 'OXAPAMPA', 'PASCO',\n",
              "       'AYABACA', 'HUANCABAMBA', 'MORROPON', 'PAITA', 'PIURA', 'SECHURA',\n",
              "       'SULLANA', 'TALARA', 'AZANGARO', 'CARABAYA', 'CHUCUITO',\n",
              "       'EL COLLAO', 'LAMPA', 'MELGAR', 'PUNO', 'SANDIA', 'BELLAVISTA',\n",
              "       'HUALLAGA', 'LAMAS', 'MARISCAL CACERES', 'MOYOBAMBA', 'PICOTA',\n",
              "       'RIOJA', 'SAN MARTIN', 'TOCACHE', 'CANDARAVE', 'JORGE BASADRE',\n",
              "       'TACNA', 'TARATA', 'CONTRALMIRANTE VILLAR', 'TUMBES', 'ZARUMILLA',\n",
              "       'CORONEL PORTILLO', 'PADRE ABAD'], dtype=object)"
            ]
          },
          "metadata": {
            "tags": []
          },
          "execution_count": 35
        }
      ]
    },
    {
      "cell_type": "code",
      "metadata": {
        "id": "eIOEUw54GhWZ",
        "colab": {
          "base_uri": "https://localhost:8080/"
        },
        "outputId": "ab754d2d-a02b-46a2-b81a-eebdf23d94cd"
      },
      "source": [
        "provincias = dict()\n",
        "for nom in nomprovincias:\n",
        "  provincias[nom] = poblacionesDF[poblacionesDF['PROVINCIA'] == nom]\n",
        "  print(nom, len(provincias[nom]))"
      ],
      "execution_count": null,
      "outputs": [
        {
          "output_type": "stream",
          "text": [
            "BAGUA 4\n",
            "BONGARA 8\n",
            "CHACHAPOYAS 1\n",
            "UTCUBAMBA 12\n",
            "ANTONIO RAYMONDI 2\n",
            "BOLOGNESI 5\n",
            "CARHUAZ 20\n",
            "CASMA 14\n",
            "HUARAZ 38\n",
            "HUARI 20\n",
            "HUAYLAS 5\n",
            "OCROS 2\n",
            "POMABAMBA 21\n",
            "RECUAY 28\n",
            "SANTA 22\n",
            "SIHUAS 6\n",
            "YUNGAY 7\n",
            "ABANCAY 41\n",
            "ANDAHUAYLAS 8\n",
            "ANTABAMBA 2\n",
            "AYMARAES 23\n",
            "CHINCHEROS 12\n",
            "GRAU 1\n",
            "AREQUIPA 24\n",
            "CAMANA 16\n",
            "CARAVELI 16\n",
            "CASTILLA 1\n",
            "CAYLLOMA 20\n",
            "CONDESUYOS 3\n",
            "CANGALLO 20\n",
            "HUAMANGA 3\n",
            "HUANCA SANCOS 38\n",
            "HUANTA 7\n",
            "LUCANAS 92\n",
            "PARINACOCHAS 1\n",
            "VICTOR FAJARDO 29\n",
            "CAJABAMBA 10\n",
            "CAJAMARCA 13\n",
            "CELENDIN 16\n",
            "CHOTA 6\n",
            "CONTUMAZA 16\n",
            "CUTERVO 6\n",
            "JAEN 11\n",
            "SAN IGNACIO 2\n",
            "SAN MARCOS 2\n",
            "SAN MIGUEL 13\n",
            "SAN MIMGUEL 1\n",
            "SANTA CRUZ 1\n",
            "ACOMAYO 14\n",
            "CALCA 3\n",
            "CANAS 4\n",
            "CANCHIS 12\n",
            "CHUMBIVILCAS 3\n",
            "LA CONVENCION 13\n",
            "PARURO 14\n",
            "QUISPICANCHI 22\n",
            "PROVINCIA 1\n",
            "CASTROVIRREYNA 49\n",
            "CHURCAMPA 1\n",
            "HUANCAVELICA 6\n",
            "HUAYTARA 32\n",
            "TAYACAJA 1\n",
            "AMBO 37\n",
            "DOS DE MAYO 7\n",
            "DOSDEMAYO 1\n",
            "HUAMALIES 6\n",
            "HUANUCO SANTA 1\n",
            "HUANUCO 27\n",
            "LAURICOCHA 11\n",
            "LEONCIO PRADO 28\n",
            "MARAÑON 12\n",
            "PUERTO INCA 9\n",
            "CHINCHA 1\n",
            "ICA 60\n",
            "NASCA 6\n",
            "PALPA 30\n",
            "PISCO 14\n",
            "CHANCHAMAYO 14\n",
            "CHUPACA 13\n",
            "CONCEPCION 1\n",
            "HUANCAYO 13\n",
            "JAUJA 1\n",
            "JUNIN 2\n",
            "SATIPO 6\n",
            "TARMA 35\n",
            "ASCOPE 67\n",
            "BOLIVAR 15\n",
            "CHEPEN 82\n",
            "GRAN CHIMU 21\n",
            "JULCAN 1\n",
            "OTUZCO 2\n",
            "PACASMAYO 52\n",
            "PATAZ 8\n",
            "SANCHEZ CARRION 6\n",
            "SANTIAGO DE CHUCO 22\n",
            "TRUJILLO 68\n",
            "VIRU 1\n",
            "CHICLAYO 250\n",
            "FERREÑAFE 127\n",
            "LAMBAYEQUE 440\n",
            "BARRANCA 15\n",
            "CAJATAMBO 3\n",
            "CAÑETE 48\n",
            "HUARAL 27\n",
            "HUAROCHIRI 6\n",
            "HUAURA 23\n",
            "LIMA 2\n",
            "OYON 26\n",
            "YAUYOS 22\n",
            "ALTO AMAZONAS 7\n",
            "LORETO 23\n",
            "MARISCAL RAMON CASTILLA 23\n",
            "MAYNAS 70\n",
            "PUTUMAYO   10 3\n",
            "REQUENA 79\n",
            "UCAYALI 19\n",
            "MANU 4\n",
            "TAMBOPATA 1\n",
            "GENERAL SANCHEZ CERRO 25\n",
            "MARISCAL NIETO 24\n",
            "DANIEL ALCIDES CARRION 6\n",
            "OXAPAMPA 4\n",
            "PASCO 33\n",
            "AYABACA 13\n",
            "HUANCABAMBA 46\n",
            "MORROPON 102\n",
            "PAITA 20\n",
            "PIURA 185\n",
            "SECHURA 76\n",
            "SULLANA 56\n",
            "TALARA 6\n",
            "AZANGARO 4\n",
            "CARABAYA 36\n",
            "CHUCUITO 12\n",
            "EL COLLAO 4\n",
            "LAMPA 4\n",
            "MELGAR 7\n",
            "PUNO 5\n",
            "SANDIA 11\n",
            "BELLAVISTA 7\n",
            "HUALLAGA 3\n",
            "LAMAS 7\n",
            "MARISCAL CACERES 8\n",
            "MOYOBAMBA 9\n",
            "PICOTA 10\n",
            "RIOJA 9\n",
            "SAN MARTIN 6\n",
            "TOCACHE 9\n",
            "CANDARAVE 1\n",
            "JORGE BASADRE 7\n",
            "TACNA 11\n",
            "TARATA 14\n",
            "CONTRALMIRANTE VILLAR 15\n",
            "TUMBES 33\n",
            "ZARUMILLA 24\n",
            "CORONEL PORTILLO 159\n",
            "PADRE ABAD 4\n"
          ],
          "name": "stdout"
        }
      ]
    },
    {
      "cell_type": "code",
      "metadata": {
        "id": "a2OamcggGpQV"
      },
      "source": [
        "#@title Provincia \n",
        "#@markdown Ingrese la provincia\n",
        "\n",
        "no_type_checking = ''\n",
        "nom_provincia = 'BONGARA' #@param {type:\"string\"}\n",
        "nom_distrito = 'JAZAN' #@param {type: \"string\"}"
      ],
      "execution_count": null,
      "outputs": []
    },
    {
      "cell_type": "code",
      "metadata": {
        "id": "utO0Fnu8nK5h",
        "colab": {
          "base_uri": "https://localhost:8080/"
        },
        "outputId": "ec5da66f-1d20-49e9-d97e-2f0ecc32fdc3"
      },
      "source": [
        "nomdistritos = provincias[nom_provincia]['DISTRITO'].unique()\n",
        "print(len(nomdistritos))\n",
        "nomdistritos"
      ],
      "execution_count": null,
      "outputs": [
        {
          "output_type": "stream",
          "text": [
            "2\n"
          ],
          "name": "stdout"
        },
        {
          "output_type": "execute_result",
          "data": {
            "text/plain": [
              "array(['CUISPES', 'JAZAN'], dtype=object)"
            ]
          },
          "metadata": {
            "tags": []
          },
          "execution_count": 38
        }
      ]
    },
    {
      "cell_type": "code",
      "metadata": {
        "id": "CiMresRqwRWL"
      },
      "source": [
        ""
      ],
      "execution_count": null,
      "outputs": []
    },
    {
      "cell_type": "code",
      "metadata": {
        "id": "c3QO89-1qaWW",
        "colab": {
          "base_uri": "https://localhost:8080/"
        },
        "outputId": "e50a4898-c22f-4cec-e439-a0e2cb6fe7b3"
      },
      "source": [
        "distritos = dict()\n",
        "for nom in nomdistritos:\n",
        "  distritos[nom] = provincias[nom_provincia][provincias[nom_provincia]['DISTRITO'] == nom]\n",
        "  print(distritos[nom])\n",
        "  "
      ],
      "execution_count": null,
      "outputs": [
        {
          "output_type": "stream",
          "text": [
            "  DEPARTAMENTO PROVINCIA DISTRITO  ...    LONGITUD NMI1 NMI2\n",
            "4     AMAZONAS   BONGARA  CUISPES  ...  -77.965302    1    4\n",
            "\n",
            "[1 rows x 8 columns]\n",
            "   DEPARTAMENTO PROVINCIA DISTRITO  ...    LONGITUD  NMI1  NMI2\n",
            "5      AMAZONAS   BONGARA    JAZAN  ...  -77.976755     4    15\n",
            "6      AMAZONAS   BONGARA    JAZAN  ...  -77.977098  1365  5361\n",
            "7      AMAZONAS   BONGARA    JAZAN  ...   -77.97635     2     7\n",
            "8      AMAZONAS   BONGARA    JAZAN  ...   -77.97886     3     6\n",
            "9      AMAZONAS   BONGARA    JAZAN  ...  -77.972108     1     5\n",
            "10     AMAZONAS   BONGARA    JAZAN  ...  -77.974682    11    36\n",
            "11     AMAZONAS   BONGARA    JAZAN  ...  -77.977918     0     0\n",
            "\n",
            "[7 rows x 8 columns]\n"
          ],
          "name": "stdout"
        }
      ]
    },
    {
      "cell_type": "code",
      "metadata": {
        "colab": {
          "base_uri": "https://localhost:8080/",
          "height": 254
        },
        "id": "fgQ3Miu4SwRT",
        "outputId": "d841f156-c728-4b2b-cbba-6e23cde8eacb"
      },
      "source": [
        "distrito = distritos[nom_distrito]\n",
        "distrito"
      ],
      "execution_count": null,
      "outputs": [
        {
          "output_type": "execute_result",
          "data": {
            "text/html": [
              "<div>\n",
              "<style scoped>\n",
              "    .dataframe tbody tr th:only-of-type {\n",
              "        vertical-align: middle;\n",
              "    }\n",
              "\n",
              "    .dataframe tbody tr th {\n",
              "        vertical-align: top;\n",
              "    }\n",
              "\n",
              "    .dataframe thead th {\n",
              "        text-align: right;\n",
              "    }\n",
              "</style>\n",
              "<table border=\"1\" class=\"dataframe\">\n",
              "  <thead>\n",
              "    <tr style=\"text-align: right;\">\n",
              "      <th></th>\n",
              "      <th>DEPARTAMENTO</th>\n",
              "      <th>PROVINCIA</th>\n",
              "      <th>DISTRITO</th>\n",
              "      <th>CENTRO POBLADO</th>\n",
              "      <th>LATITUD</th>\n",
              "      <th>LONGITUD</th>\n",
              "      <th>NMI1</th>\n",
              "      <th>NMI2</th>\n",
              "    </tr>\n",
              "  </thead>\n",
              "  <tbody>\n",
              "    <tr>\n",
              "      <th>5</th>\n",
              "      <td>AMAZONAS</td>\n",
              "      <td>BONGARA</td>\n",
              "      <td>JAZAN</td>\n",
              "      <td>NUEVA ESPERANZA</td>\n",
              "      <td>-5.935482</td>\n",
              "      <td>-77.976755</td>\n",
              "      <td>4</td>\n",
              "      <td>15</td>\n",
              "    </tr>\n",
              "    <tr>\n",
              "      <th>6</th>\n",
              "      <td>AMAZONAS</td>\n",
              "      <td>BONGARA</td>\n",
              "      <td>JAZAN</td>\n",
              "      <td>PEDRO RUIZ GALLO</td>\n",
              "      <td>-5.941387</td>\n",
              "      <td>-77.977098</td>\n",
              "      <td>1365</td>\n",
              "      <td>5361</td>\n",
              "    </tr>\n",
              "    <tr>\n",
              "      <th>7</th>\n",
              "      <td>AMAZONAS</td>\n",
              "      <td>BONGARA</td>\n",
              "      <td>JAZAN</td>\n",
              "      <td>PEDRO RUIZ</td>\n",
              "      <td>-5.94069</td>\n",
              "      <td>-77.97635</td>\n",
              "      <td>2</td>\n",
              "      <td>7</td>\n",
              "    </tr>\n",
              "    <tr>\n",
              "      <th>8</th>\n",
              "      <td>AMAZONAS</td>\n",
              "      <td>BONGARA</td>\n",
              "      <td>JAZAN</td>\n",
              "      <td>SAN JERONIMO</td>\n",
              "      <td>-5.95036</td>\n",
              "      <td>-77.97886</td>\n",
              "      <td>3</td>\n",
              "      <td>6</td>\n",
              "    </tr>\n",
              "    <tr>\n",
              "      <th>9</th>\n",
              "      <td>AMAZONAS</td>\n",
              "      <td>BONGARA</td>\n",
              "      <td>JAZAN</td>\n",
              "      <td>SANTA ROSA</td>\n",
              "      <td>-5.932149</td>\n",
              "      <td>-77.972108</td>\n",
              "      <td>1</td>\n",
              "      <td>5</td>\n",
              "    </tr>\n",
              "    <tr>\n",
              "      <th>10</th>\n",
              "      <td>AMAZONAS</td>\n",
              "      <td>BONGARA</td>\n",
              "      <td>JAZAN</td>\n",
              "      <td>SEÑOR DE GUALAMITA</td>\n",
              "      <td>-5.935217</td>\n",
              "      <td>-77.974682</td>\n",
              "      <td>11</td>\n",
              "      <td>36</td>\n",
              "    </tr>\n",
              "    <tr>\n",
              "      <th>11</th>\n",
              "      <td>AMAZONAS</td>\n",
              "      <td>BONGARA</td>\n",
              "      <td>JAZAN</td>\n",
              "      <td>VILLA ERNESTINA</td>\n",
              "      <td>-5.934992</td>\n",
              "      <td>-77.977918</td>\n",
              "      <td>0</td>\n",
              "      <td>0</td>\n",
              "    </tr>\n",
              "  </tbody>\n",
              "</table>\n",
              "</div>"
            ],
            "text/plain": [
              "   DEPARTAMENTO PROVINCIA DISTRITO  ...    LONGITUD  NMI1  NMI2\n",
              "5      AMAZONAS   BONGARA    JAZAN  ...  -77.976755     4    15\n",
              "6      AMAZONAS   BONGARA    JAZAN  ...  -77.977098  1365  5361\n",
              "7      AMAZONAS   BONGARA    JAZAN  ...   -77.97635     2     7\n",
              "8      AMAZONAS   BONGARA    JAZAN  ...   -77.97886     3     6\n",
              "9      AMAZONAS   BONGARA    JAZAN  ...  -77.972108     1     5\n",
              "10     AMAZONAS   BONGARA    JAZAN  ...  -77.974682    11    36\n",
              "11     AMAZONAS   BONGARA    JAZAN  ...  -77.977918     0     0\n",
              "\n",
              "[7 rows x 8 columns]"
            ]
          },
          "metadata": {
            "tags": []
          },
          "execution_count": 53
        }
      ]
    },
    {
      "cell_type": "code",
      "metadata": {
        "id": "j8QBQBr0gjio"
      },
      "source": [
        "def distancia(centro_poblado1, centro_poblado2):\n",
        "  la1, lo1 = float(cp1['LATITUD']), float(cp1['LONGITUD'])\n",
        "  la2, lo2 = float(cp2['LATITUD']), float(cp2['LONGITUD'])\n",
        "  \n",
        "  lo1, la1, lo2, la2 = map(math.radians, [lo1, la1, lo2, la2])\n",
        "  dlo = lo2 - lo1\n",
        "  dla = la2 - la1\n",
        "  a = math.sin(dla/2)**2 + math.cos(la1) * math.cos(la2) * math.sin(dlo/2)**2\n",
        "  c = 2 * math.asin(math.sqrt(a))\n",
        "  r = 6371\n",
        "\n",
        "  return round(c * r, 2)"
      ],
      "execution_count": null,
      "outputs": []
    },
    {
      "cell_type": "code",
      "metadata": {
        "colab": {
          "base_uri": "https://localhost:8080/"
        },
        "id": "i5VuCgo7wkSR",
        "outputId": "b171b768-4ab3-4131-ad28-855569648c7f"
      },
      "source": [
        "G = nx.Graph()\n",
        "col = 'CENTRO POBLADO'\n",
        "for i, cp1 in distrito.iterrows():\n",
        "  for j, cp2 in distrito.iterrows():\n",
        "    if cp1[col] != cp2[col]:\n",
        "      print(cp1[col],\",\",cp2[col],\",\",distancia(cp1, cp2))\n",
        "      G.add_edge(cp1[col], cp2[col], weight=distancia(cp1, cp2))"
      ],
      "execution_count": null,
      "outputs": [
        {
          "output_type": "stream",
          "text": [
            "NUEVA ESPERANZA , PEDRO RUIZ GALLO , 0.66\n",
            "NUEVA ESPERANZA , PEDRO RUIZ , 0.58\n",
            "NUEVA ESPERANZA , SAN JERONIMO , 1.67\n",
            "NUEVA ESPERANZA , SANTA ROSA , 0.63\n",
            "NUEVA ESPERANZA , SEÑOR DE GUALAMITA , 0.23\n",
            "NUEVA ESPERANZA , VILLA ERNESTINA , 0.14\n",
            "PEDRO RUIZ GALLO , NUEVA ESPERANZA , 0.66\n",
            "PEDRO RUIZ GALLO , PEDRO RUIZ , 0.11\n",
            "PEDRO RUIZ GALLO , SAN JERONIMO , 1.02\n",
            "PEDRO RUIZ GALLO , SANTA ROSA , 1.17\n",
            "PEDRO RUIZ GALLO , SEÑOR DE GUALAMITA , 0.74\n",
            "PEDRO RUIZ GALLO , VILLA ERNESTINA , 0.72\n",
            "PEDRO RUIZ , NUEVA ESPERANZA , 0.58\n",
            "PEDRO RUIZ , PEDRO RUIZ GALLO , 0.11\n",
            "PEDRO RUIZ , SAN JERONIMO , 1.11\n",
            "PEDRO RUIZ , SANTA ROSA , 1.06\n",
            "PEDRO RUIZ , SEÑOR DE GUALAMITA , 0.64\n",
            "PEDRO RUIZ , VILLA ERNESTINA , 0.66\n",
            "SAN JERONIMO , NUEVA ESPERANZA , 1.67\n",
            "SAN JERONIMO , PEDRO RUIZ GALLO , 1.02\n",
            "SAN JERONIMO , PEDRO RUIZ , 1.11\n",
            "SAN JERONIMO , SANTA ROSA , 2.16\n",
            "SAN JERONIMO , SEÑOR DE GUALAMITA , 1.75\n",
            "SAN JERONIMO , VILLA ERNESTINA , 1.71\n",
            "SANTA ROSA , NUEVA ESPERANZA , 0.63\n",
            "SANTA ROSA , PEDRO RUIZ GALLO , 1.17\n",
            "SANTA ROSA , PEDRO RUIZ , 1.06\n",
            "SANTA ROSA , SAN JERONIMO , 2.16\n",
            "SANTA ROSA , SEÑOR DE GUALAMITA , 0.44\n",
            "SANTA ROSA , VILLA ERNESTINA , 0.72\n",
            "SEÑOR DE GUALAMITA , NUEVA ESPERANZA , 0.23\n",
            "SEÑOR DE GUALAMITA , PEDRO RUIZ GALLO , 0.74\n",
            "SEÑOR DE GUALAMITA , PEDRO RUIZ , 0.64\n",
            "SEÑOR DE GUALAMITA , SAN JERONIMO , 1.75\n",
            "SEÑOR DE GUALAMITA , SANTA ROSA , 0.44\n",
            "SEÑOR DE GUALAMITA , VILLA ERNESTINA , 0.36\n",
            "VILLA ERNESTINA , NUEVA ESPERANZA , 0.14\n",
            "VILLA ERNESTINA , PEDRO RUIZ GALLO , 0.72\n",
            "VILLA ERNESTINA , PEDRO RUIZ , 0.66\n",
            "VILLA ERNESTINA , SAN JERONIMO , 1.71\n",
            "VILLA ERNESTINA , SANTA ROSA , 0.72\n",
            "VILLA ERNESTINA , SEÑOR DE GUALAMITA , 0.36\n"
          ],
          "name": "stdout"
        }
      ]
    },
    {
      "cell_type": "code",
      "metadata": {
        "colab": {
          "base_uri": "https://localhost:8080/",
          "height": 776
        },
        "id": "CjtweQM9zTOq",
        "outputId": "4b43a810-1919-446a-f95a-1370c1655d7c"
      },
      "source": [
        "\n",
        "gs.nx2gv(G, weighted=True, params={'size':'15'}, nodeinfo=True)\n"
      ],
      "execution_count": null,
      "outputs": [
        {
          "output_type": "execute_result",
          "data": {
            "text/plain": [
              "<graphviz.dot.Graph at 0x7fae3950bf50>"
            ],
            "image/svg+xml": "<?xml version=\"1.0\" encoding=\"UTF-8\" standalone=\"no\"?>\n<!DOCTYPE svg PUBLIC \"-//W3C//DTD SVG 1.1//EN\"\n \"http://www.w3.org/Graphics/SVG/1.1/DTD/svg11.dtd\">\n<!-- Generated by graphviz version 2.40.1 (20161225.0304)\n -->\n<!-- Title: G Pages: 1 -->\n<svg width=\"586pt\" height=\"566pt\"\n viewBox=\"0.00 0.00 586.00 566.00\" xmlns=\"http://www.w3.org/2000/svg\" xmlns:xlink=\"http://www.w3.org/1999/xlink\">\n<g id=\"graph0\" class=\"graph\" transform=\"scale(1 1) rotate(0) translate(4 562)\">\n<title>G</title>\n<polygon fill=\"#ffffff\" stroke=\"transparent\" points=\"-4,4 -4,-562 582,-562 582,4 -4,4\"/>\n<!-- NUEVA ESPERANZA -->\n<g id=\"node1\" class=\"node\">\n<title>NUEVA ESPERANZA</title>\n<ellipse fill=\"none\" stroke=\"#000000\" cx=\"410\" cy=\"-540\" rx=\"100.1823\" ry=\"18\"/>\n<text text-anchor=\"middle\" x=\"410\" y=\"-536.3\" font-family=\"Times,serif\" font-size=\"14.00\" fill=\"#000000\">NUEVA ESPERANZA</text>\n</g>\n<!-- PEDRO RUIZ GALLO -->\n<g id=\"node2\" class=\"node\">\n<title>PEDRO RUIZ GALLO</title>\n<ellipse fill=\"none\" stroke=\"#000000\" cx=\"270\" cy=\"-453\" rx=\"100.9827\" ry=\"18\"/>\n<text text-anchor=\"middle\" x=\"270\" y=\"-449.3\" font-family=\"Times,serif\" font-size=\"14.00\" fill=\"#000000\">PEDRO RUIZ GALLO</text>\n</g>\n<!-- NUEVA ESPERANZA&#45;&#45;PEDRO RUIZ GALLO -->\n<g id=\"edge1\" class=\"edge\">\n<title>NUEVA ESPERANZA&#45;&#45;PEDRO RUIZ GALLO</title>\n<path fill=\"none\" stroke=\"#000000\" d=\"M382.0054,-522.6033C357.5878,-507.4296 322.3493,-485.5314 297.9461,-470.3665\"/>\n<text text-anchor=\"middle\" x=\"362.5\" y=\"-492.8\" font-family=\"Times,serif\" font-size=\"14.00\" fill=\"#000000\">0.66</text>\n</g>\n<!-- PEDRO RUIZ -->\n<g id=\"node3\" class=\"node\">\n<title>PEDRO RUIZ</title>\n<ellipse fill=\"none\" stroke=\"#000000\" cx=\"325\" cy=\"-366\" rx=\"66.0889\" ry=\"18\"/>\n<text text-anchor=\"middle\" x=\"325\" y=\"-362.3\" font-family=\"Times,serif\" font-size=\"14.00\" fill=\"#000000\">PEDRO RUIZ</text>\n</g>\n<!-- NUEVA ESPERANZA&#45;&#45;PEDRO RUIZ -->\n<g id=\"edge2\" class=\"edge\">\n<title>NUEVA ESPERANZA&#45;&#45;PEDRO RUIZ</title>\n<path fill=\"none\" stroke=\"#000000\" d=\"M407.0439,-521.731C403.0461,-500.1197 394.6713,-463.4837 380,-435 370.1093,-415.7976 354.429,-396.816 342.3372,-383.6372\"/>\n<text text-anchor=\"middle\" x=\"408.5\" y=\"-449.3\" font-family=\"Times,serif\" font-size=\"14.00\" fill=\"#000000\">0.58</text>\n</g>\n<!-- SAN JERONIMO -->\n<g id=\"node4\" class=\"node\">\n<title>SAN JERONIMO</title>\n<ellipse fill=\"none\" stroke=\"#000000\" cx=\"191\" cy=\"-279\" rx=\"79.0865\" ry=\"18\"/>\n<text text-anchor=\"middle\" x=\"191\" y=\"-275.3\" font-family=\"Times,serif\" font-size=\"14.00\" fill=\"#000000\">SAN JERONIMO</text>\n</g>\n<!-- NUEVA ESPERANZA&#45;&#45;SAN JERONIMO -->\n<g id=\"edge3\" class=\"edge\">\n<title>NUEVA ESPERANZA&#45;&#45;SAN JERONIMO</title>\n<path fill=\"none\" stroke=\"#000000\" d=\"M336.2235,-527.7759C271.8714,-515.6967 185.0028,-495.5026 160,-471 108.7178,-420.7438 80.0837,-375.9747 118,-315 123.8204,-305.64 132.8709,-298.6417 142.6429,-293.4349\"/>\n<text text-anchor=\"middle\" x=\"128.5\" y=\"-405.8\" font-family=\"Times,serif\" font-size=\"14.00\" fill=\"#000000\">1.67</text>\n</g>\n<!-- SANTA ROSA -->\n<g id=\"node5\" class=\"node\">\n<title>SANTA ROSA</title>\n<ellipse fill=\"none\" stroke=\"#000000\" cx=\"99\" cy=\"-192\" rx=\"69.5877\" ry=\"18\"/>\n<text text-anchor=\"middle\" x=\"99\" y=\"-188.3\" font-family=\"Times,serif\" font-size=\"14.00\" fill=\"#000000\">SANTA ROSA</text>\n</g>\n<!-- NUEVA ESPERANZA&#45;&#45;SANTA ROSA -->\n<g id=\"edge4\" class=\"edge\">\n<title>NUEVA ESPERANZA&#45;&#45;SANTA ROSA</title>\n<path fill=\"none\" stroke=\"#000000\" d=\"M312.4547,-535.7086C204.6335,-528.2323 46,-507.9034 46,-453 46,-453 46,-453 46,-279 46,-251.7633 65.1795,-225.8124 80.4632,-209.4567\"/>\n<text text-anchor=\"middle\" x=\"59.5\" y=\"-362.3\" font-family=\"Times,serif\" font-size=\"14.00\" fill=\"#000000\">0.63</text>\n</g>\n<!-- SEÑOR DE GUALAMITA -->\n<g id=\"node6\" class=\"node\">\n<title>SEÑOR DE GUALAMITA</title>\n<ellipse fill=\"none\" stroke=\"#000000\" cx=\"407\" cy=\"-105\" rx=\"116.1796\" ry=\"18\"/>\n<text text-anchor=\"middle\" x=\"407\" y=\"-101.3\" font-family=\"Times,serif\" font-size=\"14.00\" fill=\"#000000\">SEÑOR DE GUALAMITA</text>\n</g>\n<!-- NUEVA ESPERANZA&#45;&#45;SEÑOR DE GUALAMITA -->\n<g id=\"edge5\" class=\"edge\">\n<title>NUEVA ESPERANZA&#45;&#45;SEÑOR DE GUALAMITA</title>\n<path fill=\"none\" stroke=\"#000000\" d=\"M445.829,-523.039C470.9271,-508.4007 500,-484.6199 500,-453 500,-453 500,-453 500,-192 500,-160.1625 470.5742,-136.6149 444.8267,-122.1046\"/>\n<text text-anchor=\"middle\" x=\"513.5\" y=\"-318.8\" font-family=\"Times,serif\" font-size=\"14.00\" fill=\"#000000\">0.23</text>\n</g>\n<!-- VILLA ERNESTINA -->\n<g id=\"node7\" class=\"node\">\n<title>VILLA ERNESTINA</title>\n<ellipse fill=\"none\" stroke=\"#000000\" cx=\"230\" cy=\"-18\" rx=\"93.6835\" ry=\"18\"/>\n<text text-anchor=\"middle\" x=\"230\" y=\"-14.3\" font-family=\"Times,serif\" font-size=\"14.00\" fill=\"#000000\">VILLA ERNESTINA</text>\n</g>\n<!-- NUEVA ESPERANZA&#45;&#45;VILLA ERNESTINA -->\n<g id=\"edge6\" class=\"edge\">\n<title>NUEVA ESPERANZA&#45;&#45;VILLA ERNESTINA</title>\n<path fill=\"none\" stroke=\"#000000\" d=\"M474.7226,-526.09C511.7891,-513.9017 551,-491.8313 551,-453 551,-453 551,-453 551,-105 551,-56.4265 412.3451,-34.1212 317.2907,-24.537\"/>\n<text text-anchor=\"middle\" x=\"564.5\" y=\"-275.3\" font-family=\"Times,serif\" font-size=\"14.00\" fill=\"#000000\">0.14</text>\n</g>\n<!-- PEDRO RUIZ GALLO&#45;&#45;PEDRO RUIZ -->\n<g id=\"edge7\" class=\"edge\">\n<title>PEDRO RUIZ GALLO&#45;&#45;PEDRO RUIZ</title>\n<path fill=\"none\" stroke=\"#000000\" d=\"M281.396,-434.9735C290.8354,-420.0422 304.1832,-398.9283 313.6186,-384.0034\"/>\n<text text-anchor=\"middle\" x=\"314\" y=\"-405.8\" font-family=\"Times,serif\" font-size=\"14.00\" fill=\"#000000\">0.11</text>\n</g>\n<!-- PEDRO RUIZ GALLO&#45;&#45;SAN JERONIMO -->\n<g id=\"edge8\" class=\"edge\">\n<title>PEDRO RUIZ GALLO&#45;&#45;SAN JERONIMO</title>\n<path fill=\"none\" stroke=\"#000000\" d=\"M255.6317,-435.1794C245.3828,-421.7602 231.8948,-402.5605 223,-384 209.0815,-354.9566 199.594,-318.4999 194.7529,-297.0751\"/>\n<text text-anchor=\"middle\" x=\"236.5\" y=\"-362.3\" font-family=\"Times,serif\" font-size=\"14.00\" fill=\"#000000\">1.02</text>\n</g>\n<!-- PEDRO RUIZ GALLO&#45;&#45;SANTA ROSA -->\n<g id=\"edge9\" class=\"edge\">\n<title>PEDRO RUIZ GALLO&#45;&#45;SANTA ROSA</title>\n<path fill=\"none\" stroke=\"#000000\" d=\"M240.0571,-435.6604C200.3516,-410.7614 131.931,-360.7706 103,-297 90.1876,-268.7584 92.6277,-231.7224 95.7131,-210.026\"/>\n<text text-anchor=\"middle\" x=\"135.5\" y=\"-318.8\" font-family=\"Times,serif\" font-size=\"14.00\" fill=\"#000000\">1.17</text>\n</g>\n<!-- PEDRO RUIZ GALLO&#45;&#45;SEÑOR DE GUALAMITA -->\n<g id=\"edge10\" class=\"edge\">\n<title>PEDRO RUIZ GALLO&#45;&#45;SEÑOR DE GUALAMITA</title>\n<path fill=\"none\" stroke=\"#000000\" d=\"M321.9178,-437.4985C349.1583,-426.7505 380.7766,-409.6664 400,-384 464.9406,-297.2934 442.4393,-246.7634 419,-141 417.6886,-135.0825 415.7699,-128.7688 413.8499,-123.1079\"/>\n<text text-anchor=\"middle\" x=\"456.5\" y=\"-275.3\" font-family=\"Times,serif\" font-size=\"14.00\" fill=\"#000000\">0.74</text>\n</g>\n<!-- PEDRO RUIZ GALLO&#45;&#45;VILLA ERNESTINA -->\n<g id=\"edge11\" class=\"edge\">\n<title>PEDRO RUIZ GALLO&#45;&#45;VILLA ERNESTINA</title>\n<path fill=\"none\" stroke=\"#000000\" d=\"M196.2753,-440.6548C132.903,-428.5932 48.0348,-408.5 24,-384 3.4526,-363.055 0,-351.8409 0,-322.5 0,-322.5 0,-322.5 0,-105 0,-70.1529 93.5307,-44.3704 161.304,-30.2624\"/>\n<text text-anchor=\"middle\" x=\"13.5\" y=\"-231.8\" font-family=\"Times,serif\" font-size=\"14.00\" fill=\"#000000\">0.72</text>\n</g>\n<!-- PEDRO RUIZ&#45;&#45;SAN JERONIMO -->\n<g id=\"edge12\" class=\"edge\">\n<title>PEDRO RUIZ&#45;&#45;SAN JERONIMO</title>\n<path fill=\"none\" stroke=\"#000000\" d=\"M297.5076,-349.6099C287.5191,-343.5542 276.1867,-336.5656 266,-330 249.059,-319.081 230.309,-306.331 215.7942,-296.3108\"/>\n<text text-anchor=\"middle\" x=\"279\" y=\"-318.8\" font-family=\"Times,serif\" font-size=\"14.00\" fill=\"#000000\">1.11</text>\n</g>\n<!-- PEDRO RUIZ&#45;&#45;SANTA ROSA -->\n<g id=\"edge13\" class=\"edge\">\n<title>PEDRO RUIZ&#45;&#45;SANTA ROSA</title>\n<path fill=\"none\" stroke=\"#000000\" d=\"M321.5761,-347.9408C316.3006,-324.8223 304.0533,-284.9062 279,-261 245.4652,-229.0008 195.5305,-211.4295 156.7566,-202.0409\"/>\n<text text-anchor=\"middle\" x=\"317.5\" y=\"-275.3\" font-family=\"Times,serif\" font-size=\"14.00\" fill=\"#000000\">1.06</text>\n</g>\n<!-- PEDRO RUIZ&#45;&#45;SEÑOR DE GUALAMITA -->\n<g id=\"edge14\" class=\"edge\">\n<title>PEDRO RUIZ&#45;&#45;SEÑOR DE GUALAMITA</title>\n<path fill=\"none\" stroke=\"#000000\" d=\"M355.5643,-349.8713C363.0338,-344.5163 370.2388,-337.8709 375,-330 396.0853,-295.1433 403.9755,-170.1197 406.2384,-123.074\"/>\n<text text-anchor=\"middle\" x=\"411.5\" y=\"-231.8\" font-family=\"Times,serif\" font-size=\"14.00\" fill=\"#000000\">0.64</text>\n</g>\n<!-- PEDRO RUIZ&#45;&#45;VILLA ERNESTINA -->\n<g id=\"edge15\" class=\"edge\">\n<title>PEDRO RUIZ&#45;&#45;VILLA ERNESTINA</title>\n<path fill=\"none\" stroke=\"#000000\" d=\"M330.3078,-347.854C339.5932,-312.6346 355.4973,-233.2702 330,-174 317.6995,-145.4065 299.767,-148.5582 282,-123 262.2611,-94.6051 245.807,-57.6194 236.9796,-35.9741\"/>\n<text text-anchor=\"middle\" x=\"354.5\" y=\"-188.3\" font-family=\"Times,serif\" font-size=\"14.00\" fill=\"#000000\">0.66</text>\n</g>\n<!-- SAN JERONIMO&#45;&#45;SANTA ROSA -->\n<g id=\"edge16\" class=\"edge\">\n<title>SAN JERONIMO&#45;&#45;SANTA ROSA</title>\n<path fill=\"none\" stroke=\"#000000\" d=\"M172.3824,-261.3943C156.4208,-246.3001 133.5435,-224.6661 117.5899,-209.5796\"/>\n<text text-anchor=\"middle\" x=\"164.5\" y=\"-231.8\" font-family=\"Times,serif\" font-size=\"14.00\" fill=\"#000000\">2.16</text>\n</g>\n<!-- SAN JERONIMO&#45;&#45;SEÑOR DE GUALAMITA -->\n<g id=\"edge17\" class=\"edge\">\n<title>SAN JERONIMO&#45;&#45;SEÑOR DE GUALAMITA</title>\n<path fill=\"none\" stroke=\"#000000\" d=\"M208.0226,-261.3142C229.2945,-239.6311 267.2608,-202.2835 303,-174 327.1273,-154.906 356.4869,-135.7646 377.8508,-122.5032\"/>\n<text text-anchor=\"middle\" x=\"316.5\" y=\"-188.3\" font-family=\"Times,serif\" font-size=\"14.00\" fill=\"#000000\">1.75</text>\n</g>\n<!-- SAN JERONIMO&#45;&#45;VILLA ERNESTINA -->\n<g id=\"edge18\" class=\"edge\">\n<title>SAN JERONIMO&#45;&#45;VILLA ERNESTINA</title>\n<path fill=\"none\" stroke=\"#000000\" d=\"M189.874,-260.5618C188.5947,-233.9711 187.4527,-183.3929 194,-141 199.9092,-102.7386 214.4167,-59.6659 223.1043,-35.998\"/>\n<text text-anchor=\"middle\" x=\"207.5\" y=\"-144.8\" font-family=\"Times,serif\" font-size=\"14.00\" fill=\"#000000\">1.71</text>\n</g>\n<!-- SANTA ROSA&#45;&#45;SEÑOR DE GUALAMITA -->\n<g id=\"edge19\" class=\"edge\">\n<title>SANTA ROSA&#45;&#45;SEÑOR DE GUALAMITA</title>\n<path fill=\"none\" stroke=\"#000000\" d=\"M152.6757,-180.4454C175.5272,-174.5705 202.1295,-166.4364 225,-156 236.1027,-150.9336 236.7607,-145.7556 248,-141 272.1107,-130.7982 299.5563,-123.2687 324.7791,-117.8123\"/>\n<text text-anchor=\"middle\" x=\"261.5\" y=\"-144.8\" font-family=\"Times,serif\" font-size=\"14.00\" fill=\"#000000\">0.44</text>\n</g>\n<!-- SANTA ROSA&#45;&#45;VILLA ERNESTINA -->\n<g id=\"edge20\" class=\"edge\">\n<title>SANTA ROSA&#45;&#45;VILLA ERNESTINA</title>\n<path fill=\"none\" stroke=\"#000000\" d=\"M106.3984,-173.9119C118.7518,-145.4859 145.9269,-89.902 183,-54 189.6452,-47.5647 197.427,-41.2048 204.7249,-35.6626\"/>\n<text text-anchor=\"middle\" x=\"168.5\" y=\"-101.3\" font-family=\"Times,serif\" font-size=\"14.00\" fill=\"#000000\">0.72</text>\n</g>\n<!-- SEÑOR DE GUALAMITA&#45;&#45;VILLA ERNESTINA -->\n<g id=\"edge21\" class=\"edge\">\n<title>SEÑOR DE GUALAMITA&#45;&#45;VILLA ERNESTINA</title>\n<path fill=\"none\" stroke=\"#000000\" d=\"M372.0305,-87.8116C340.7985,-72.4603 295.3192,-50.106 264.2946,-34.8567\"/>\n<text text-anchor=\"middle\" x=\"343.5\" y=\"-57.8\" font-family=\"Times,serif\" font-size=\"14.00\" fill=\"#000000\">0.36</text>\n</g>\n</g>\n</svg>\n"
          },
          "metadata": {
            "tags": []
          },
          "execution_count": 56
        }
      ]
    },
    {
      "cell_type": "code",
      "metadata": {
        "id": "jzlnoKRMR0Je"
      },
      "source": [
        "#@title Ingrese el centro poblado que desea analizar su ruta:\n",
        "nom_centroPoblado = 'NUEVA ESPERANZA' #@param {type:\"string\"}\n"
      ],
      "execution_count": null,
      "outputs": []
    },
    {
      "cell_type": "code",
      "metadata": {
        "id": "GKrYyDrIg9iH"
      },
      "source": [
        "ruta = dict()\n",
        "for n in list(G):\n",
        "  ruta[n] = {}\n",
        "  for j in G.neighbors(n):\n",
        "    result  = json.dumps(G.get_edge_data(n,j,default = 0))\n",
        "    result = result.replace('{\"weight\":','')\n",
        "    result = result.replace('}', ' ')\n",
        "    result=float(result)\n",
        "    result=result *10\n",
        "    result= int(result)\n",
        "    ruta[n][j] = result"
      ],
      "execution_count": null,
      "outputs": []
    },
    {
      "cell_type": "code",
      "metadata": {
        "colab": {
          "base_uri": "https://localhost:8080/"
        },
        "id": "fnFqowTviZnf",
        "outputId": "6b908664-9f7c-49c2-b1dc-2ad01fb80b3b"
      },
      "source": [
        "print(ruta)"
      ],
      "execution_count": null,
      "outputs": [
        {
          "output_type": "stream",
          "text": [
            "{'NUEVA ESPERANZA': {'PEDRO RUIZ GALLO': 6, 'PEDRO RUIZ': 5, 'SAN JERONIMO': 16, 'SANTA ROSA': 6, 'SEÑOR DE GUALAMITA': 2, 'VILLA ERNESTINA': 1}, 'PEDRO RUIZ GALLO': {'NUEVA ESPERANZA': 6, 'PEDRO RUIZ': 1, 'SAN JERONIMO': 10, 'SANTA ROSA': 11, 'SEÑOR DE GUALAMITA': 7, 'VILLA ERNESTINA': 7}, 'PEDRO RUIZ': {'NUEVA ESPERANZA': 5, 'PEDRO RUIZ GALLO': 1, 'SAN JERONIMO': 11, 'SANTA ROSA': 10, 'SEÑOR DE GUALAMITA': 6, 'VILLA ERNESTINA': 6}, 'SAN JERONIMO': {'NUEVA ESPERANZA': 16, 'PEDRO RUIZ GALLO': 10, 'PEDRO RUIZ': 11, 'SANTA ROSA': 21, 'SEÑOR DE GUALAMITA': 17, 'VILLA ERNESTINA': 17}, 'SANTA ROSA': {'NUEVA ESPERANZA': 6, 'PEDRO RUIZ GALLO': 11, 'PEDRO RUIZ': 10, 'SAN JERONIMO': 21, 'SEÑOR DE GUALAMITA': 4, 'VILLA ERNESTINA': 7}, 'SEÑOR DE GUALAMITA': {'NUEVA ESPERANZA': 2, 'PEDRO RUIZ GALLO': 7, 'PEDRO RUIZ': 6, 'SAN JERONIMO': 17, 'SANTA ROSA': 4, 'VILLA ERNESTINA': 3}, 'VILLA ERNESTINA': {'NUEVA ESPERANZA': 1, 'PEDRO RUIZ GALLO': 7, 'PEDRO RUIZ': 6, 'SAN JERONIMO': 17, 'SANTA ROSA': 7, 'SEÑOR DE GUALAMITA': 3}}\n"
          ],
          "name": "stdout"
        }
      ]
    },
    {
      "cell_type": "code",
      "metadata": {
        "id": "4PBhBX-9bUWC"
      },
      "source": [
        "def camino(G):\n",
        "  path = [0]*G.number_of_nodes()\n",
        "  for v, info in G.nodes.data():\n",
        "    path[v] = info['camino']\n",
        "  return path"
      ],
      "execution_count": null,
      "outputs": []
    },
    {
      "cell_type": "code",
      "metadata": {
        "id": "ny7ioYkEFx5i"
      },
      "source": [
        "#Utilizando Dijkstra\n",
        "def dijkstra(G, s):\n",
        "  for u in G.nodes:\n",
        "    G.nodes[u]['visited'] = False\n",
        "    G.nodes[u]['path']    = -1\n",
        "    G.nodes[u]['cost']    = math.inf\n",
        "\n",
        "  G.nodes[s]['cost'] = 0\n",
        "  q = [(0, s)]\n",
        "  while q:\n",
        "    g_u, u = hq.heappop(q)\n",
        "    if not G.nodes[u]['visited']:\n",
        "      G.nodes[u]['visited'] = True\n",
        "      for v in G.neighbors(u):\n",
        "        if not G.nodes[v]['visited']:\n",
        "          w_uv = G.get_edge_data(u, v)['weight']\n",
        "          f_v  = g_u + w_uv\n",
        "          g_v  = G.nodes[v]['cost']      \n",
        "          if f_v < g_v:\n",
        "            G.nodes[v]['cost'] = f_v\n",
        "            G.nodes[v]['path'] = u\n",
        "            hq.heappush(q, (f_v, v))\n",
        "  path = dict()\n",
        "  for v, info in G.nodes.data():\n",
        "    path[v] = info['path']\n",
        "\n",
        "  return path"
      ],
      "execution_count": null,
      "outputs": []
    },
    {
      "cell_type": "code",
      "metadata": {
        "id": "vEjBDKjLZqwn",
        "colab": {
          "base_uri": "https://localhost:8080/",
          "height": 813
        },
        "outputId": "e8a4ef26-76c5-409e-85fd-6b30f320de32"
      },
      "source": [
        "path = dijkstra(G,nom_centroPoblado )\n",
        "print(path)\n",
        "gs.nx2gv(G, path = path, weighted = True, params = {'size':'15'})"
      ],
      "execution_count": null,
      "outputs": [
        {
          "output_type": "stream",
          "text": [
            "{'NUEVA ESPERANZA': -1, 'PEDRO RUIZ GALLO': 'NUEVA ESPERANZA', 'PEDRO RUIZ': 'NUEVA ESPERANZA', 'SAN JERONIMO': 'NUEVA ESPERANZA', 'SANTA ROSA': 'NUEVA ESPERANZA', 'SEÑOR DE GUALAMITA': 'NUEVA ESPERANZA', 'VILLA ERNESTINA': 'NUEVA ESPERANZA'}\n"
          ],
          "name": "stdout"
        },
        {
          "output_type": "execute_result",
          "data": {
            "text/plain": [
              "<graphviz.dot.Graph at 0x7fae3950f990>"
            ],
            "image/svg+xml": "<?xml version=\"1.0\" encoding=\"UTF-8\" standalone=\"no\"?>\n<!DOCTYPE svg PUBLIC \"-//W3C//DTD SVG 1.1//EN\"\n \"http://www.w3.org/Graphics/SVG/1.1/DTD/svg11.dtd\">\n<!-- Generated by graphviz version 2.40.1 (20161225.0304)\n -->\n<!-- Title: G Pages: 1 -->\n<svg width=\"586pt\" height=\"566pt\"\n viewBox=\"0.00 0.00 586.00 566.00\" xmlns=\"http://www.w3.org/2000/svg\" xmlns:xlink=\"http://www.w3.org/1999/xlink\">\n<g id=\"graph0\" class=\"graph\" transform=\"scale(1 1) rotate(0) translate(4 562)\">\n<title>G</title>\n<polygon fill=\"#ffffff\" stroke=\"transparent\" points=\"-4,4 -4,-562 582,-562 582,4 -4,4\"/>\n<!-- NUEVA ESPERANZA -->\n<g id=\"node1\" class=\"node\">\n<title>NUEVA ESPERANZA</title>\n<ellipse fill=\"none\" stroke=\"#000000\" cx=\"410\" cy=\"-540\" rx=\"100.1823\" ry=\"18\"/>\n<text text-anchor=\"middle\" x=\"410\" y=\"-536.3\" font-family=\"Times,serif\" font-size=\"14.00\" fill=\"#000000\">NUEVA ESPERANZA</text>\n</g>\n<!-- PEDRO RUIZ GALLO -->\n<g id=\"node2\" class=\"node\">\n<title>PEDRO RUIZ GALLO</title>\n<ellipse fill=\"none\" stroke=\"#000000\" cx=\"270\" cy=\"-453\" rx=\"100.9827\" ry=\"18\"/>\n<text text-anchor=\"middle\" x=\"270\" y=\"-449.3\" font-family=\"Times,serif\" font-size=\"14.00\" fill=\"#000000\">PEDRO RUIZ GALLO</text>\n</g>\n<!-- NUEVA ESPERANZA&#45;&#45;PEDRO RUIZ GALLO -->\n<g id=\"edge1\" class=\"edge\">\n<title>NUEVA ESPERANZA&#45;&#45;PEDRO RUIZ GALLO</title>\n<path fill=\"none\" stroke=\"#ff4500\" d=\"M382.0054,-522.6033C357.5878,-507.4296 322.3493,-485.5314 297.9461,-470.3665\"/>\n<text text-anchor=\"middle\" x=\"362.5\" y=\"-492.8\" font-family=\"Times,serif\" font-size=\"14.00\" fill=\"#000000\">0.66</text>\n</g>\n<!-- PEDRO RUIZ -->\n<g id=\"node3\" class=\"node\">\n<title>PEDRO RUIZ</title>\n<ellipse fill=\"none\" stroke=\"#000000\" cx=\"325\" cy=\"-366\" rx=\"66.0889\" ry=\"18\"/>\n<text text-anchor=\"middle\" x=\"325\" y=\"-362.3\" font-family=\"Times,serif\" font-size=\"14.00\" fill=\"#000000\">PEDRO RUIZ</text>\n</g>\n<!-- NUEVA ESPERANZA&#45;&#45;PEDRO RUIZ -->\n<g id=\"edge2\" class=\"edge\">\n<title>NUEVA ESPERANZA&#45;&#45;PEDRO RUIZ</title>\n<path fill=\"none\" stroke=\"#ff4500\" d=\"M407.0439,-521.731C403.0461,-500.1197 394.6713,-463.4837 380,-435 370.1093,-415.7976 354.429,-396.816 342.3372,-383.6372\"/>\n<text text-anchor=\"middle\" x=\"408.5\" y=\"-449.3\" font-family=\"Times,serif\" font-size=\"14.00\" fill=\"#000000\">0.58</text>\n</g>\n<!-- SAN JERONIMO -->\n<g id=\"node4\" class=\"node\">\n<title>SAN JERONIMO</title>\n<ellipse fill=\"none\" stroke=\"#000000\" cx=\"191\" cy=\"-279\" rx=\"79.0865\" ry=\"18\"/>\n<text text-anchor=\"middle\" x=\"191\" y=\"-275.3\" font-family=\"Times,serif\" font-size=\"14.00\" fill=\"#000000\">SAN JERONIMO</text>\n</g>\n<!-- NUEVA ESPERANZA&#45;&#45;SAN JERONIMO -->\n<g id=\"edge3\" class=\"edge\">\n<title>NUEVA ESPERANZA&#45;&#45;SAN JERONIMO</title>\n<path fill=\"none\" stroke=\"#ff4500\" d=\"M336.2235,-527.7759C271.8714,-515.6967 185.0028,-495.5026 160,-471 108.7178,-420.7438 80.0837,-375.9747 118,-315 123.8204,-305.64 132.8709,-298.6417 142.6429,-293.4349\"/>\n<text text-anchor=\"middle\" x=\"128.5\" y=\"-405.8\" font-family=\"Times,serif\" font-size=\"14.00\" fill=\"#000000\">1.67</text>\n</g>\n<!-- SANTA ROSA -->\n<g id=\"node5\" class=\"node\">\n<title>SANTA ROSA</title>\n<ellipse fill=\"none\" stroke=\"#000000\" cx=\"99\" cy=\"-192\" rx=\"69.5877\" ry=\"18\"/>\n<text text-anchor=\"middle\" x=\"99\" y=\"-188.3\" font-family=\"Times,serif\" font-size=\"14.00\" fill=\"#000000\">SANTA ROSA</text>\n</g>\n<!-- NUEVA ESPERANZA&#45;&#45;SANTA ROSA -->\n<g id=\"edge4\" class=\"edge\">\n<title>NUEVA ESPERANZA&#45;&#45;SANTA ROSA</title>\n<path fill=\"none\" stroke=\"#ff4500\" d=\"M312.4547,-535.7086C204.6335,-528.2323 46,-507.9034 46,-453 46,-453 46,-453 46,-279 46,-251.7633 65.1795,-225.8124 80.4632,-209.4567\"/>\n<text text-anchor=\"middle\" x=\"59.5\" y=\"-362.3\" font-family=\"Times,serif\" font-size=\"14.00\" fill=\"#000000\">0.63</text>\n</g>\n<!-- SEÑOR DE GUALAMITA -->\n<g id=\"node6\" class=\"node\">\n<title>SEÑOR DE GUALAMITA</title>\n<ellipse fill=\"none\" stroke=\"#000000\" cx=\"407\" cy=\"-105\" rx=\"116.1796\" ry=\"18\"/>\n<text text-anchor=\"middle\" x=\"407\" y=\"-101.3\" font-family=\"Times,serif\" font-size=\"14.00\" fill=\"#000000\">SEÑOR DE GUALAMITA</text>\n</g>\n<!-- NUEVA ESPERANZA&#45;&#45;SEÑOR DE GUALAMITA -->\n<g id=\"edge5\" class=\"edge\">\n<title>NUEVA ESPERANZA&#45;&#45;SEÑOR DE GUALAMITA</title>\n<path fill=\"none\" stroke=\"#ff4500\" d=\"M445.829,-523.039C470.9271,-508.4007 500,-484.6199 500,-453 500,-453 500,-453 500,-192 500,-160.1625 470.5742,-136.6149 444.8267,-122.1046\"/>\n<text text-anchor=\"middle\" x=\"513.5\" y=\"-318.8\" font-family=\"Times,serif\" font-size=\"14.00\" fill=\"#000000\">0.23</text>\n</g>\n<!-- VILLA ERNESTINA -->\n<g id=\"node7\" class=\"node\">\n<title>VILLA ERNESTINA</title>\n<ellipse fill=\"none\" stroke=\"#000000\" cx=\"230\" cy=\"-18\" rx=\"93.6835\" ry=\"18\"/>\n<text text-anchor=\"middle\" x=\"230\" y=\"-14.3\" font-family=\"Times,serif\" font-size=\"14.00\" fill=\"#000000\">VILLA ERNESTINA</text>\n</g>\n<!-- NUEVA ESPERANZA&#45;&#45;VILLA ERNESTINA -->\n<g id=\"edge6\" class=\"edge\">\n<title>NUEVA ESPERANZA&#45;&#45;VILLA ERNESTINA</title>\n<path fill=\"none\" stroke=\"#ff4500\" d=\"M474.7226,-526.09C511.7891,-513.9017 551,-491.8313 551,-453 551,-453 551,-453 551,-105 551,-56.4265 412.3451,-34.1212 317.2907,-24.537\"/>\n<text text-anchor=\"middle\" x=\"564.5\" y=\"-275.3\" font-family=\"Times,serif\" font-size=\"14.00\" fill=\"#000000\">0.14</text>\n</g>\n<!-- PEDRO RUIZ GALLO&#45;&#45;PEDRO RUIZ -->\n<g id=\"edge7\" class=\"edge\">\n<title>PEDRO RUIZ GALLO&#45;&#45;PEDRO RUIZ</title>\n<path fill=\"none\" stroke=\"#000000\" d=\"M281.396,-434.9735C290.8354,-420.0422 304.1832,-398.9283 313.6186,-384.0034\"/>\n<text text-anchor=\"middle\" x=\"314\" y=\"-405.8\" font-family=\"Times,serif\" font-size=\"14.00\" fill=\"#000000\">0.11</text>\n</g>\n<!-- PEDRO RUIZ GALLO&#45;&#45;SAN JERONIMO -->\n<g id=\"edge8\" class=\"edge\">\n<title>PEDRO RUIZ GALLO&#45;&#45;SAN JERONIMO</title>\n<path fill=\"none\" stroke=\"#000000\" d=\"M255.6317,-435.1794C245.3828,-421.7602 231.8948,-402.5605 223,-384 209.0815,-354.9566 199.594,-318.4999 194.7529,-297.0751\"/>\n<text text-anchor=\"middle\" x=\"236.5\" y=\"-362.3\" font-family=\"Times,serif\" font-size=\"14.00\" fill=\"#000000\">1.02</text>\n</g>\n<!-- PEDRO RUIZ GALLO&#45;&#45;SANTA ROSA -->\n<g id=\"edge9\" class=\"edge\">\n<title>PEDRO RUIZ GALLO&#45;&#45;SANTA ROSA</title>\n<path fill=\"none\" stroke=\"#000000\" d=\"M240.0571,-435.6604C200.3516,-410.7614 131.931,-360.7706 103,-297 90.1876,-268.7584 92.6277,-231.7224 95.7131,-210.026\"/>\n<text text-anchor=\"middle\" x=\"135.5\" y=\"-318.8\" font-family=\"Times,serif\" font-size=\"14.00\" fill=\"#000000\">1.17</text>\n</g>\n<!-- PEDRO RUIZ GALLO&#45;&#45;SEÑOR DE GUALAMITA -->\n<g id=\"edge10\" class=\"edge\">\n<title>PEDRO RUIZ GALLO&#45;&#45;SEÑOR DE GUALAMITA</title>\n<path fill=\"none\" stroke=\"#000000\" d=\"M321.9178,-437.4985C349.1583,-426.7505 380.7766,-409.6664 400,-384 464.9406,-297.2934 442.4393,-246.7634 419,-141 417.6886,-135.0825 415.7699,-128.7688 413.8499,-123.1079\"/>\n<text text-anchor=\"middle\" x=\"456.5\" y=\"-275.3\" font-family=\"Times,serif\" font-size=\"14.00\" fill=\"#000000\">0.74</text>\n</g>\n<!-- PEDRO RUIZ GALLO&#45;&#45;VILLA ERNESTINA -->\n<g id=\"edge11\" class=\"edge\">\n<title>PEDRO RUIZ GALLO&#45;&#45;VILLA ERNESTINA</title>\n<path fill=\"none\" stroke=\"#000000\" d=\"M196.2753,-440.6548C132.903,-428.5932 48.0348,-408.5 24,-384 3.4526,-363.055 0,-351.8409 0,-322.5 0,-322.5 0,-322.5 0,-105 0,-70.1529 93.5307,-44.3704 161.304,-30.2624\"/>\n<text text-anchor=\"middle\" x=\"13.5\" y=\"-231.8\" font-family=\"Times,serif\" font-size=\"14.00\" fill=\"#000000\">0.72</text>\n</g>\n<!-- PEDRO RUIZ&#45;&#45;SAN JERONIMO -->\n<g id=\"edge12\" class=\"edge\">\n<title>PEDRO RUIZ&#45;&#45;SAN JERONIMO</title>\n<path fill=\"none\" stroke=\"#000000\" d=\"M297.5076,-349.6099C287.5191,-343.5542 276.1867,-336.5656 266,-330 249.059,-319.081 230.309,-306.331 215.7942,-296.3108\"/>\n<text text-anchor=\"middle\" x=\"279\" y=\"-318.8\" font-family=\"Times,serif\" font-size=\"14.00\" fill=\"#000000\">1.11</text>\n</g>\n<!-- PEDRO RUIZ&#45;&#45;SANTA ROSA -->\n<g id=\"edge13\" class=\"edge\">\n<title>PEDRO RUIZ&#45;&#45;SANTA ROSA</title>\n<path fill=\"none\" stroke=\"#000000\" d=\"M321.5761,-347.9408C316.3006,-324.8223 304.0533,-284.9062 279,-261 245.4652,-229.0008 195.5305,-211.4295 156.7566,-202.0409\"/>\n<text text-anchor=\"middle\" x=\"317.5\" y=\"-275.3\" font-family=\"Times,serif\" font-size=\"14.00\" fill=\"#000000\">1.06</text>\n</g>\n<!-- PEDRO RUIZ&#45;&#45;SEÑOR DE GUALAMITA -->\n<g id=\"edge14\" class=\"edge\">\n<title>PEDRO RUIZ&#45;&#45;SEÑOR DE GUALAMITA</title>\n<path fill=\"none\" stroke=\"#000000\" d=\"M355.5643,-349.8713C363.0338,-344.5163 370.2388,-337.8709 375,-330 396.0853,-295.1433 403.9755,-170.1197 406.2384,-123.074\"/>\n<text text-anchor=\"middle\" x=\"411.5\" y=\"-231.8\" font-family=\"Times,serif\" font-size=\"14.00\" fill=\"#000000\">0.64</text>\n</g>\n<!-- PEDRO RUIZ&#45;&#45;VILLA ERNESTINA -->\n<g id=\"edge15\" class=\"edge\">\n<title>PEDRO RUIZ&#45;&#45;VILLA ERNESTINA</title>\n<path fill=\"none\" stroke=\"#000000\" d=\"M330.3078,-347.854C339.5932,-312.6346 355.4973,-233.2702 330,-174 317.6995,-145.4065 299.767,-148.5582 282,-123 262.2611,-94.6051 245.807,-57.6194 236.9796,-35.9741\"/>\n<text text-anchor=\"middle\" x=\"354.5\" y=\"-188.3\" font-family=\"Times,serif\" font-size=\"14.00\" fill=\"#000000\">0.66</text>\n</g>\n<!-- SAN JERONIMO&#45;&#45;SANTA ROSA -->\n<g id=\"edge16\" class=\"edge\">\n<title>SAN JERONIMO&#45;&#45;SANTA ROSA</title>\n<path fill=\"none\" stroke=\"#000000\" d=\"M172.3824,-261.3943C156.4208,-246.3001 133.5435,-224.6661 117.5899,-209.5796\"/>\n<text text-anchor=\"middle\" x=\"164.5\" y=\"-231.8\" font-family=\"Times,serif\" font-size=\"14.00\" fill=\"#000000\">2.16</text>\n</g>\n<!-- SAN JERONIMO&#45;&#45;SEÑOR DE GUALAMITA -->\n<g id=\"edge17\" class=\"edge\">\n<title>SAN JERONIMO&#45;&#45;SEÑOR DE GUALAMITA</title>\n<path fill=\"none\" stroke=\"#000000\" d=\"M208.0226,-261.3142C229.2945,-239.6311 267.2608,-202.2835 303,-174 327.1273,-154.906 356.4869,-135.7646 377.8508,-122.5032\"/>\n<text text-anchor=\"middle\" x=\"316.5\" y=\"-188.3\" font-family=\"Times,serif\" font-size=\"14.00\" fill=\"#000000\">1.75</text>\n</g>\n<!-- SAN JERONIMO&#45;&#45;VILLA ERNESTINA -->\n<g id=\"edge18\" class=\"edge\">\n<title>SAN JERONIMO&#45;&#45;VILLA ERNESTINA</title>\n<path fill=\"none\" stroke=\"#000000\" d=\"M189.874,-260.5618C188.5947,-233.9711 187.4527,-183.3929 194,-141 199.9092,-102.7386 214.4167,-59.6659 223.1043,-35.998\"/>\n<text text-anchor=\"middle\" x=\"207.5\" y=\"-144.8\" font-family=\"Times,serif\" font-size=\"14.00\" fill=\"#000000\">1.71</text>\n</g>\n<!-- SANTA ROSA&#45;&#45;SEÑOR DE GUALAMITA -->\n<g id=\"edge19\" class=\"edge\">\n<title>SANTA ROSA&#45;&#45;SEÑOR DE GUALAMITA</title>\n<path fill=\"none\" stroke=\"#000000\" d=\"M152.6757,-180.4454C175.5272,-174.5705 202.1295,-166.4364 225,-156 236.1027,-150.9336 236.7607,-145.7556 248,-141 272.1107,-130.7982 299.5563,-123.2687 324.7791,-117.8123\"/>\n<text text-anchor=\"middle\" x=\"261.5\" y=\"-144.8\" font-family=\"Times,serif\" font-size=\"14.00\" fill=\"#000000\">0.44</text>\n</g>\n<!-- SANTA ROSA&#45;&#45;VILLA ERNESTINA -->\n<g id=\"edge20\" class=\"edge\">\n<title>SANTA ROSA&#45;&#45;VILLA ERNESTINA</title>\n<path fill=\"none\" stroke=\"#000000\" d=\"M106.3984,-173.9119C118.7518,-145.4859 145.9269,-89.902 183,-54 189.6452,-47.5647 197.427,-41.2048 204.7249,-35.6626\"/>\n<text text-anchor=\"middle\" x=\"168.5\" y=\"-101.3\" font-family=\"Times,serif\" font-size=\"14.00\" fill=\"#000000\">0.72</text>\n</g>\n<!-- SEÑOR DE GUALAMITA&#45;&#45;VILLA ERNESTINA -->\n<g id=\"edge21\" class=\"edge\">\n<title>SEÑOR DE GUALAMITA&#45;&#45;VILLA ERNESTINA</title>\n<path fill=\"none\" stroke=\"#000000\" d=\"M372.0305,-87.8116C340.7985,-72.4603 295.3192,-50.106 264.2946,-34.8567\"/>\n<text text-anchor=\"middle\" x=\"343.5\" y=\"-57.8\" font-family=\"Times,serif\" font-size=\"14.00\" fill=\"#000000\">0.36</text>\n</g>\n</g>\n</svg>\n"
          },
          "metadata": {
            "tags": []
          },
          "execution_count": 62
        }
      ]
    },
    {
      "cell_type": "code",
      "metadata": {
        "id": "qdbMqi6YydqQ",
        "colab": {
          "base_uri": "https://localhost:8080/"
        },
        "outputId": "f19e48c4-0a58-41f7-b90e-fc6e4b627f22"
      },
      "source": [
        "# APLICANDO BACKTRACK\n",
        "answer = []\n",
        "path = []\n",
        "paths = []\n",
        "\n",
        "#Convierte el G de networX a una lista 2D (matrix)\n",
        "def graph_to_matrix(G):\n",
        "  matrix = []\n",
        "  centros_poblados = list(G.nodes('label'))\n",
        "  for i in range(len(G)):\n",
        "    row = []\n",
        "    for j in range(len(G)):\n",
        "      \n",
        "      cp1 = list(G.nodes())[i]\n",
        "      cp2 = list(G.nodes())[j]\n",
        "      \n",
        "      if cp1 == cp2:\n",
        "        row.append(0)\n",
        "      else:\n",
        "        row.append(G.get_edge_data(cp1,cp2)['weight'])\n",
        "        \n",
        "    matrix.append(row.copy())\n",
        "  return matrix\n",
        "\n",
        "def print_answer(G):\n",
        "  global paths\n",
        "  global answer\n",
        "  p = paths[answer.index(min(answer))]\n",
        "  print(\"Shortest path: \" + \"\\n\")\n",
        "  for i in range(len(G)):\n",
        "    cps = list(G.nodes())\n",
        "    if i < (len(G) - 1):\n",
        "      cost = G.get_edge_data(cps[p[i]], cps[p[i+1]])['weight']\n",
        "      print(\"- \" + cps[p[i]] + \" -> \" + cps[p[i+1]] + \"  \" + str(cost))\n",
        "  print(\"- \" + cps[p[-1]] + \" -> \" + cps[p[0]] + \"  \" + str(G.get_edge_data(cps[p[-1]], cps[p[0]])['weight']) + \"\\n\")\n",
        "  print(\"Distancia Minima: \" + str(min(answer)))\n",
        "\n",
        "def solve_bt(graph, v, currPos, n, count, cost, path):\n",
        "  global paths\n",
        "  if (count == n and graph[currPos][0]):\n",
        "    answer.append(cost + graph[currPos][0])\n",
        "    paths.append(path.copy())\n",
        "    return\n",
        "\n",
        "  # BACKTRACKING\n",
        "  for i in range(n):\n",
        "    if (v[i] == False and graph[currPos][i]): \n",
        "      # marcar como visitado\n",
        "      v[i] = True\n",
        "      path.append(i)\n",
        "\n",
        "      solve_bt(graph, v, i, n, count + 1, \n",
        "          cost + graph[currPos][i], path)\n",
        "        \n",
        "      # desmarcar\n",
        "      v[i] = False\n",
        "      path.remove(i)\n",
        "\n",
        "# n is the number of nodes\n",
        "n = len(G)\n",
        "graph = graph_to_matrix(G)\n",
        "\n",
        "v = [False for i in range(n)]\n",
        "\n",
        "#Marcar primer Centro Poblado como visitado\n",
        "v[0] = True\n",
        "path.append(0)\n",
        "solve_bt(graph, v, 0, n, 1, 0, path)\n",
        "\n",
        "print_answer(G)\n",
        "\n"
      ],
      "execution_count": 263,
      "outputs": [
        {
          "output_type": "stream",
          "text": [
            "Shortest path: \n",
            "\n",
            "- NUEVA ESPERANZA -> SANTA ROSA  0.63\n",
            "- SANTA ROSA -> SEÑOR DE GUALAMITA  0.44\n",
            "- SEÑOR DE GUALAMITA -> PEDRO RUIZ  0.64\n",
            "- PEDRO RUIZ -> PEDRO RUIZ GALLO  0.11\n",
            "- PEDRO RUIZ GALLO -> SAN JERONIMO  1.02\n",
            "- SAN JERONIMO -> VILLA ERNESTINA  1.71\n",
            "- VILLA ERNESTINA -> NUEVA ESPERANZA  0.14\n",
            "\n",
            "Distancia Minima: 4.6899999999999995\n"
          ],
          "name": "stdout"
        }
      ]
    },
    {
      "cell_type": "code",
      "metadata": {
        "id": "vv3NA4VfUAvi",
        "colab": {
          "base_uri": "https://localhost:8080/"
        },
        "outputId": "f1304cc4-c5ac-4258-e125-c022aa015679"
      },
      "source": [
        "\n",
        "#APLICANDO BFS\n",
        "\n",
        "visitado = []\n",
        "queue = []\n",
        "distancia = []\n",
        "\n",
        "def bfs(G, visitado, inicio, fin):\n",
        "  visitado.append(inicio)\n",
        "  queue.append(inicio)\n",
        "  \n",
        "  while queue:\n",
        "    m = queue.pop(0)\n",
        "    print (m, end = \" \")\n",
        "\n",
        "    for neighbour in G.nodes():\n",
        "      if neighbour not in visitado:\n",
        "        visitado.append(neighbour)\n",
        "        queue.append(neighbour)\n",
        "      if G.neighbors in visitado:\n",
        "        visitado.append(fin)\n",
        "    \n",
        "\n",
        "bfs(G, visitado, nom_centroPoblado,nom_centroPoblado)\n",
        "print(\"->\",\"Distancia Minima: \" + str(min(answer)))\n"
      ],
      "execution_count": 262,
      "outputs": [
        {
          "output_type": "stream",
          "text": [
            "NUEVA ESPERANZA PEDRO RUIZ GALLO PEDRO RUIZ SAN JERONIMO SANTA ROSA SEÑOR DE GUALAMITA VILLA ERNESTINA -> Distancia Minima: 4.6899999999999995\n"
          ],
          "name": "stdout"
        }
      ]
    },
    {
      "cell_type": "code",
      "metadata": {
        "id": "IGAOmhqNUHO5"
      },
      "source": [
        ""
      ],
      "execution_count": null,
      "outputs": []
    }
  ]
}